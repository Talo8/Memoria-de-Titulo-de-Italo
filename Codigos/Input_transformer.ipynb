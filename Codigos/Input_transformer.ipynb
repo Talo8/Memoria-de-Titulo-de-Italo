{
 "cells": [
  {
   "cell_type": "markdown",
   "id": "f628bdb8",
   "metadata": {},
   "source": [
    "Bathymetry Transformer"
   ]
  },
  {
   "cell_type": "code",
   "execution_count": 5,
   "id": "2cf2eabc",
   "metadata": {},
   "outputs": [
    {
     "name": "stdout",
     "output_type": "stream",
     "text": [
      "❌ No se encontró: C:\\Users\\italo\\OneDrive - Universidad Técnica Federico Santa María\\Titulo\\Datos\\HySEA\\GrdNetCDF\\grillaNetCDF1.grd\n",
      "❌ No se encontró: C:\\Users\\italo\\OneDrive - Universidad Técnica Federico Santa María\\Titulo\\Datos\\HySEA\\GrdNetCDF\\grillaNetCDF2.grd\n",
      "❌ No se encontró: C:\\Users\\italo\\OneDrive - Universidad Técnica Federico Santa María\\Titulo\\Datos\\HySEA\\GrdNetCDF\\grillaNetCDF3.grd\n"
     ]
    }
   ],
   "source": [
    "import numpy as np\n",
    "import xarray as xr\n",
    "import os\n",
    "import re\n",
    "\n",
    "def convert_netcdf_to_grd(nc_file, grd_file, x_var='longitude', y_var='latitude', z_var='elevation'):\n",
    "\n",
    "    try:\n",
    "        with xr.open_dataset(nc_file) as ds:\n",
    "            x = ds[x_var].values\n",
    "            y = ds[y_var].values\n",
    "            z = ds[z_var].values\n",
    "\n",
    "            if y[0] > y[-1]:\n",
    "                y = y[::-1]\n",
    "                z = np.flipud(z)\n",
    "\n",
    "            ncols = len(x)\n",
    "            nrows = len(y)\n",
    "            xmin, xmax = np.min(x), np.max(x)\n",
    "            ymin, ymax = np.min(y), np.max(y)\n",
    "            zmin, zmax = np.min(z), np.max(z)\n",
    "\n",
    "            with open(grd_file, 'w') as f:\n",
    "                f.write('DSAA\\n')\n",
    "                f.write(f'{ncols} {nrows}\\n')\n",
    "                f.write(f'{xmin:.8f} {xmax:.8f}\\n')\n",
    "                f.write(f'{ymin:.8f} {ymax:.8f}\\n')\n",
    "                f.write(f'{zmin:.8f} {zmax:.8f}\\n')\n",
    "                \n",
    "                for i in range(nrows):\n",
    "                    row_str = ' '.join(f'{val:.8f}' for val in z[i, :])\n",
    "                    f.write(row_str + '\\n')\n",
    "\n",
    "        print(f\"✅ Convertido: {os.path.basename(nc_file)} → {os.path.basename(grd_file)}\")\n",
    "\n",
    "    except FileNotFoundError:\n",
    "        print(f\"❌ No se encontró: {nc_file}\")\n",
    "    except KeyError as e:\n",
    "        print(f\"❌ Variable no encontrada ({e}). Revisa nombres {x_var}, {y_var}, {z_var}.\")\n",
    "    except Exception as e:\n",
    "        print(f\"⚠️ Error inesperado con {nc_file}: {e}\")\n",
    "\n",
    "if __name__ == \"__main__\":\n",
    "    carpeta_entrada = r\"C:\\Users\\italo\\OneDrive - Universidad Técnica Federico Santa María\\Titulo\\Datos\\HySEA\\GrdNetCDF\"\n",
    "    carpeta_salida  = r\"C:\\Users\\italo\\OneDrive - Universidad Técnica Federico Santa María\\Titulo\\Datos\\EasyWave\\GrdASCII\" \n",
    "\n",
    "    os.makedirs(carpeta_salida, exist_ok=True)\n",
    "\n",
    "    patron = re.compile(r\"grillaNetCDF(\\d+)\\.grd$\")\n",
    "    archivos = [f for f in os.listdir(carpeta_entrada) if patron.match(f)]\n",
    "\n",
    "    if not archivos:\n",
    "        print(\"⚠️ No se encontraron archivos grillaNetCDF{n}.grd en la carpeta de entrada.\")\n",
    "    else:\n",
    "        archivos.sort(key=lambda f: int(patron.match(f).group(1)))\n",
    "\n",
    "        for archivo in archivos:\n",
    "            numero = patron.match(archivo).group(1)\n",
    "            input_file = os.path.join(carpeta_entrada, archivo)\n",
    "            output_file = os.path.join(carpeta_salida, f\"salida_ascii{numero}.grd\")\n",
    "\n",
    "            convert_netcdf_to_grd(input_file, output_file, x_var='x', y_var='y', z_var='z')\n"
   ]
  },
  {
   "cell_type": "markdown",
   "id": "8bf5bf5e",
   "metadata": {},
   "source": [
    "Parameters Transformer:"
   ]
  },
  {
   "cell_type": "code",
   "execution_count": 2,
   "id": "bec9eea9",
   "metadata": {},
   "outputs": [
    {
     "name": "stdout",
     "output_type": "stream",
     "text": [
      "✅ Convertido: data_parameters_1.txt → data_parameters_1.flt\n",
      "✅ Convertido: data_parameters_2.txt → data_parameters_2.flt\n",
      "✅ Convertido: data_parameters_3.txt → data_parameters_3.flt\n"
     ]
    }
   ],
   "source": [
    "import os\n",
    "import re\n",
    "\n",
    "def convertir_faults_a_flt(input_txt, output_flt):\n",
    "    with open(input_txt, 'r') as fin, open(output_flt, 'w') as fout:\n",
    "        next(fin)\n",
    "\n",
    "        for line in fin:\n",
    "            valores = line.strip().split()\n",
    "            if not valores:\n",
    "                continue\n",
    "\n",
    "            valores = valores[1:]\n",
    "            valores = [f\"{float(v):.3f}\" for v in valores]\n",
    "\n",
    "            salida = (\n",
    "                f\"-location {valores[0]} {valores[1]} {valores[2]} \"\n",
    "                f\"-size {valores[3]} {valores[4]} \"\n",
    "                f\"-strike {valores[5]} \"\n",
    "                f\"-dip {valores[6]} \"\n",
    "                f\"-rake {valores[7]} \"\n",
    "                f\"-slip {valores[8]}\"\n",
    "            )\n",
    "\n",
    "            fout.write(salida + \"\\n\")\n",
    "\n",
    "    print(f\"✅ Convertido: {os.path.basename(input_txt)} → {os.path.basename(output_flt)}\")\n",
    "\n",
    "\n",
    "if __name__ == \"__main__\":\n",
    "    \n",
    "    carpeta_entrada = r\"C:\\Users\\italo\\OneDrive - Universidad Técnica Federico Santa María\\Titulo\\Datos\\HySEA\\ParametersTXT\"\n",
    "    carpeta_salida  = r\"C:\\Users\\italo\\OneDrive - Universidad Técnica Federico Santa María\\Titulo\\Datos\\EasyWave\\ParametersFLT\"\n",
    "\n",
    "    os.makedirs(carpeta_salida, exist_ok=True)\n",
    "\n",
    "    patron = re.compile(r\"data_parameters_(\\d+)\\.txt$\")\n",
    "    archivos = [f for f in os.listdir(carpeta_entrada) if patron.match(f)]\n",
    "\n",
    "    if not archivos:\n",
    "        print(\"⚠️ No se encontraron archivos data_parameters_{n}.txt en la carpeta Hysea.\")\n",
    "    else:\n",
    "        archivos.sort(key=lambda f: int(patron.match(f).group(1)))\n",
    "\n",
    "        for archivo in archivos:\n",
    "            numero = patron.match(archivo).group(1)\n",
    "            input_file = os.path.join(carpeta_entrada, archivo)\n",
    "            output_file = os.path.join(carpeta_salida, f\"data_parameters_{numero}.flt\")\n",
    "\n",
    "            convertir_faults_a_flt(input_file, output_file)\n"
   ]
  }
 ],
 "metadata": {
  "kernelspec": {
   "display_name": "titulo",
   "language": "python",
   "name": "python3"
  },
  "language_info": {
   "codemirror_mode": {
    "name": "ipython",
    "version": 3
   },
   "file_extension": ".py",
   "mimetype": "text/x-python",
   "name": "python",
   "nbconvert_exporter": "python",
   "pygments_lexer": "ipython3",
   "version": "3.13.5"
  }
 },
 "nbformat": 4,
 "nbformat_minor": 5
}

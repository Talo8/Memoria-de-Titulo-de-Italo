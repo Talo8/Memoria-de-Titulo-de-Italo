{
 "cells": [
  {
   "cell_type": "markdown",
   "id": "75fa5e79",
   "metadata": {},
   "source": [
    "EasyWave Model:"
   ]
  },
  {
   "cell_type": "code",
   "execution_count": 2,
   "id": "b2b4746d",
   "metadata": {},
   "outputs": [
    {
     "name": "stdout",
     "output_type": "stream",
     "text": [
      "Procesando N=1 ...\n",
      "\n",
      "easyWave ver.2013-04-11\n",
      "Model time = 00:00:00,   elapsed: 34526 msec\n",
      "Model time = 00:10:00,   elapsed: 35396 msec\n",
      "Model time = 00:20:00,   elapsed: 37128 msec\n",
      "Model time = 00:30:00,   elapsed: 39953 msec\n",
      "Model time = 00:40:00,   elapsed: 43724 msec\n",
      "Model time = 00:50:00,   elapsed: 48061 msec\n",
      "Model time = 01:00:00,   elapsed: 53264 msec\n",
      "Model time = 01:10:00,   elapsed: 59407 msec\n",
      "Model time = 01:20:00,   elapsed: 66180 msec\n",
      "Model time = 01:30:00,   elapsed: 74001 msec\n",
      "Model time = 01:40:00,   elapsed: 82253 msec\n",
      "Model time = 01:50:00,   elapsed: 91343 msec\n",
      "Model time = 02:00:00,   elapsed: 100523 msec\n",
      "✅ Todos los procesos han finalizado. Resultados guardados en 'Resultados/'\n"
     ]
    }
   ],
   "source": [
    "import subprocess\n",
    "import glob\n",
    "import os\n",
    "import shutil\n",
    "\n",
    "grd_folder = r\"Datos/EasyWave/GrdASCII\" \n",
    "flt_folder = r\"Datos/EasyWave/ParametersFLT\"\n",
    "out_folder = r\"Datos/EasyWave/Outputs\"\n",
    "res_folder = os.path.join(os.getcwd(), \"Resultados\")\n",
    "\n",
    "os.makedirs(out_folder, exist_ok=True)\n",
    "os.makedirs(res_folder, exist_ok=True)\n",
    "\n",
    "grd_files = sorted(glob.glob(os.path.join(grd_folder, \"salida_ascii_*.grd\")))\n",
    "\n",
    "for grd_file in grd_files:\n",
    "    basename = os.path.basename(grd_file)             \n",
    "    n = ''.join(filter(str.isdigit, basename))        \n",
    "\n",
    "    flt_file = os.path.join(flt_folder, f\"data_parameters_{n}.flt\")\n",
    "\n",
    "    run_out = os.path.join(out_folder, f\"output_{n}\")\n",
    "    os.makedirs(run_out, exist_ok=True)\n",
    "\n",
    "    print(f\"Procesando N={n} ...\")\n",
    "\n",
    "    subprocess.run([\n",
    "        \"easywave\",\n",
    "        \"-grid\", os.path.abspath(grd_file),\n",
    "        \"-source\", os.path.abspath(flt_file),\n",
    "        \"-time\", \"120\"\n",
    "    ], cwd=run_out)\n",
    "\n",
    "    subprocess.run([\n",
    "        \"sshmax2png.sh\",\n",
    "        \"-grd\", os.path.abspath(grd_file)\n",
    "    ], cwd=run_out)\n",
    "\n",
    "    subprocess.run([\n",
    "        \"ssh2png.sh\",\n",
    "        \"-grd\", os.path.abspath(grd_file),\n",
    "        \"03600\"\n",
    "    ], cwd=run_out)\n",
    "\n",
    "    file_heig = os.path.join(run_out, \"eWave.2D.png\")\n",
    "    file_prop = os.path.join(run_out, \"eWave.2D.03600.png\")\n",
    "\n",
    "    new_heig = os.path.join(res_folder, f\"max_wave_heights_{n}.png\")\n",
    "    new_prop = os.path.join(res_folder, f\"wave_propagation_{n}.png\")\n",
    "\n",
    "    if os.path.exists(file_heig):\n",
    "        shutil.move(file_heig, new_heig)\n",
    "\n",
    "    if os.path.exists(file_prop):\n",
    "        shutil.move(file_prop, new_prop)\n",
    "\n",
    "print(\"✅ Todos los procesos han finalizado. Resultados guardados en 'Resultados/'\")\n"
   ]
  }
 ],
 "metadata": {
  "kernelspec": {
   "display_name": "titulo (3.12.3)",
   "language": "python",
   "name": "python3"
  },
  "language_info": {
   "codemirror_mode": {
    "name": "ipython",
    "version": 3
   },
   "file_extension": ".py",
   "mimetype": "text/x-python",
   "name": "python",
   "nbconvert_exporter": "python",
   "pygments_lexer": "ipython3",
   "version": "3.12.3"
  }
 },
 "nbformat": 4,
 "nbformat_minor": 5
}

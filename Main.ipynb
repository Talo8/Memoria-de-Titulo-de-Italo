{
 "cells": [
  {
   "cell_type": "code",
   "execution_count": null,
   "id": "ff1a2f44",
   "metadata": {},
   "outputs": [],
   "source": []
  },
  {
   "cell_type": "code",
   "execution_count": 4,
   "id": "613f7a5f",
   "metadata": {},
   "outputs": [
    {
     "name": "stdout",
     "output_type": "stream",
     "text": [
      "Procesando N=1 ...\n",
      "\n",
      "easyWave ver.2013-04-11\n",
      "Model time = 00:00:00,   elapsed: 4150 msec\n",
      "Model time = 00:10:00,   elapsed: 4345 msec\n",
      "Model time = 00:20:00,   elapsed: 4928 msec\n",
      "Model time = 00:30:00,   elapsed: 6378 msec\n",
      "Model time = 00:40:00,   elapsed: 8773 msec\n",
      "Model time = 00:50:00,   elapsed: 11701 msec\n",
      "Model time = 01:00:00,   elapsed: 15227 msec\n",
      "Model time = 01:10:00,   elapsed: 19371 msec\n",
      "Model time = 01:20:00,   elapsed: 24118 msec\n",
      "Model time = 01:30:00,   elapsed: 29709 msec\n",
      "Model time = 01:40:00,   elapsed: 35896 msec\n",
      "Model time = 01:50:00,   elapsed: 42822 msec\n",
      "Model time = 02:00:00,   elapsed: 50327 msec\n",
      "Procesando N=2 ...\n",
      "\n",
      "easyWave ver.2013-04-11\n",
      "Model time = 00:00:00,   elapsed: 4039 msec\n",
      "Model time = 00:10:00,   elapsed: 4254 msec\n",
      "Model time = 00:20:00,   elapsed: 4905 msec\n",
      "Model time = 00:30:00,   elapsed: 6352 msec\n",
      "Model time = 00:40:00,   elapsed: 8719 msec\n",
      "Model time = 00:50:00,   elapsed: 11725 msec\n",
      "Model time = 01:00:00,   elapsed: 15246 msec\n",
      "Model time = 01:10:00,   elapsed: 19374 msec\n",
      "Model time = 01:20:00,   elapsed: 24151 msec\n",
      "Model time = 01:30:00,   elapsed: 29726 msec\n",
      "Model time = 01:40:00,   elapsed: 36045 msec\n",
      "Model time = 01:50:00,   elapsed: 43064 msec\n",
      "Model time = 02:00:00,   elapsed: 50518 msec\n",
      "Procesando N=3 ...\n",
      "\n",
      "easyWave ver.2013-04-11\n",
      "Model time = 00:00:00,   elapsed: 3993 msec\n",
      "Model time = 00:10:00,   elapsed: 4195 msec\n",
      "Model time = 00:20:00,   elapsed: 4766 msec\n",
      "Model time = 00:30:00,   elapsed: 6199 msec\n",
      "Model time = 00:40:00,   elapsed: 8654 msec\n",
      "Model time = 00:50:00,   elapsed: 11591 msec\n",
      "Model time = 01:00:00,   elapsed: 15061 msec\n",
      "Model time = 01:10:00,   elapsed: 19137 msec\n",
      "Model time = 01:20:00,   elapsed: 23897 msec\n",
      "Model time = 01:30:00,   elapsed: 29379 msec\n",
      "Model time = 01:40:00,   elapsed: 35522 msec\n",
      "Model time = 01:50:00,   elapsed: 42772 msec\n",
      "Model time = 02:00:00,   elapsed: 50384 msec\n",
      "Todos los procesos han finalizado.\n"
     ]
    }
   ],
   "source": [
    "import subprocess\n",
    "import glob\n",
    "import os\n",
    "\n",
    "# Carpetas donde están tus archivos\n",
    "grd_folder = r\"Datos/EasyWave/GrdASCII\" \n",
    "flt_folder = r\"Datos/EasyWave/ParametersFLT\"\n",
    "\n",
    "# Buscar todos los archivos .grd y extraer los números \"N\"\n",
    "grd_files = sorted(glob.glob(os.path.join(grd_folder, \"salida_ascii*.grd\")))\n",
    "\n",
    "for grd_file in grd_files:\n",
    "    # Extraer número N del archivo\n",
    "    basename = os.path.basename(grd_file)             \n",
    "    n = ''.join(filter(str.isdigit, basename))        \n",
    "\n",
    "    flt_file = os.path.join(flt_folder, f\"data_parameters_{n}.flt\")\n",
    "\n",
    "    # Ejecutar 'easywave' con parámetros\n",
    "    print(f\"Procesando N={n} ...\")\n",
    "    subprocess.run([\n",
    "        \"easywave\",\n",
    "        \"-grid\", grd_file,\n",
    "        \"-source\", flt_file,\n",
    "        \"-time\", \"120\"\n",
    "    ])\n",
    "\n",
    "print(\"Todos los procesos han finalizado.\")\n"
   ]
  }
 ],
 "metadata": {
  "kernelspec": {
   "display_name": "titulo (3.12.3)",
   "language": "python",
   "name": "python3"
  },
  "language_info": {
   "codemirror_mode": {
    "name": "ipython",
    "version": 3
   },
   "file_extension": ".py",
   "mimetype": "text/x-python",
   "name": "python",
   "nbconvert_exporter": "python",
   "pygments_lexer": "ipython3",
   "version": "3.12.3"
  }
 },
 "nbformat": 4,
 "nbformat_minor": 5
}
